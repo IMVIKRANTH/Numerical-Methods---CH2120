{
 "cells": [
  {
   "cell_type": "markdown",
   "metadata": {
    "id": "UNa6jqbW6Obb"
   },
   "source": [
    "# **Numerical Methods Assignment_2**\n",
    "\n",
    "\n",
    "*   *Lakkoju Vikranth Ram* *ES23BTECH11024*\n",
    "*   *Chilukala Jayanth Kumar Reddy* *CO23BTECH11005*\n",
    "*   *Kowsith* *ES23BTECH11015*\n",
    "*   *Sathwik* *ES23BTECH11020*\n",
    "*   *Deepak Joy* *ES23BTECH11014*\n",
    "\n"
   ]
  },
  {
   "cell_type": "code",
   "execution_count": 52,
   "metadata": {
    "id": "nWX7z4aNUm0_"
   },
   "outputs": [],
   "source": [
    "import numpy as np\n",
    "import matplotlib.pyplot as plt\n",
    "from scipy.special import legendre\n"
   ]
  },
  {
   "cell_type": "markdown",
   "metadata": {
    "id": "gfoYPAH_08FF"
   },
   "source": [
    "$\\mathbf{A)}$\n",
    "\n",
    "${JACOBI}$                $ {MATRIX}$\n",
    "\n",
    "$J = \\begin{bmatrix}\n",
    "\\alpha_1 & \\beta_1 & 0 & \\cdots & 0 & 0 \\\\\n",
    "\\beta_1 & \\alpha_2 & \\beta_2 & \\cdots & 0 & 0 \\\\\n",
    "0 & \\beta_2 & \\ddots & \\ddots & \\vdots & \\vdots \\\\\n",
    "\\vdots & \\vdots & \\ddots & \\ddots & \\beta_{N-2} & 0 \\\\\n",
    "0 & 0 & \\cdots & \\beta_{N-2} & \\alpha_{N-1} & \\beta_{N-1} \\\\\n",
    "0 & 0 & \\cdots & 0 & \\beta_{N-1} & \\alpha_N \\\\\n",
    "\\end{bmatrix}$\n",
    "\n",
    "$\n",
    "\\alpha_i = -\\frac{b_i}{a_i}, \\quad \\beta_i = \\left( \\frac{c_{i+1}}{a_i a_{i+1}} \\right)^{1/2}.\n",
    "$\n",
    "\n",
    "all $\\alpha$ $'s$ are equal to 0 and $\\beta$ $'s$ are taken in the code when compared to the actual legendre equation"
   ]
  },
  {
   "cell_type": "code",
   "execution_count": 53,
   "metadata": {
    "id": "yUfvp6uIAm9W"
   },
   "outputs": [],
   "source": [
    "def jacobi_matrix(n):\n",
    "  beta = 0.5 / np.sqrt(1 - (2 * np.arange(1, n, dtype=float)) ** -2)\n",
    "  J = np.diag(beta, -1) + np.diag(beta, 1)\n",
    "  return J"
   ]
  },
  {
   "cell_type": "markdown",
   "metadata": {
    "id": "UaqWZZaR3Ecj"
   },
   "source": [
    "### Constructing and displaying the Jacobi matrix."
   ]
  },
  {
   "cell_type": "code",
   "execution_count": 54,
   "metadata": {
    "colab": {
     "base_uri": "https://localhost:8080/"
    },
    "id": "t4wSdhLhA37M",
    "outputId": "7b9122c9-8ae5-4183-b601-4e087eaa4679"
   },
   "outputs": [
    {
     "name": "stdout",
     "output_type": "stream",
     "text": [
      "Enter a number : 32\n"
     ]
    },
    {
     "data": {
      "text/plain": [
       "array([[0.        , 0.57735027, 0.        , ..., 0.        , 0.        ,\n",
       "        0.        ],\n",
       "       [0.57735027, 0.        , 0.51639778, ..., 0.        , 0.        ,\n",
       "        0.        ],\n",
       "       [0.        , 0.51639778, 0.        , ..., 0.        , 0.        ,\n",
       "        0.        ],\n",
       "       ...,\n",
       "       [0.        , 0.        , 0.        , ..., 0.        , 0.50006946,\n",
       "        0.        ],\n",
       "       [0.        , 0.        , 0.        , ..., 0.50006946, 0.        ,\n",
       "        0.50006505],\n",
       "       [0.        , 0.        , 0.        , ..., 0.        , 0.50006505,\n",
       "        0.        ]])"
      ]
     },
     "execution_count": 54,
     "metadata": {},
     "output_type": "execute_result"
    }
   ],
   "source": [
    "n=int(input(\"Enter a number : \"))\n",
    "J=jacobi_matrix(n)\n",
    "J"
   ]
  },
  {
   "cell_type": "markdown",
   "metadata": {
    "id": "9mSj7teZ3Q_P"
   },
   "source": [
    "### Extracting Roots and Weights from the Jacobi Matrix\n",
    "\n",
    "The eigenvalues of the Jacobi matrix represent the roots (nodes) for Gaussian quadrature.\n",
    "\n",
    "$\\text{weights} = 2 \\times \\left( \\text{first element of corresponding eigenvectors} \\right){^2.}$\n"
   ]
  },
  {
   "cell_type": "code",
   "execution_count": 57,
   "metadata": {
    "id": "SRz6KW3Ey6bq"
   },
   "outputs": [],
   "source": [
    "def LU_decomposition(A):\n",
    "    n = len(A)\n",
    "    L = np.zeros((n, n))\n",
    "    U = np.zeros((n, n))\n",
    "    for i in range(n):\n",
    "        for k in range(i, n):\n",
    "            U[i][k] = A[i][k] - sum(L[i][j] * U[j][k] for j in range(i))\n",
    "        for k in range(i, n):\n",
    "            if i == k:\n",
    "                L[i][i] = 1\n",
    "            else:\n",
    "                L[k][i] = (A[k][i] - sum\n",
    "                 (L[k][j] * U[j][i] for j in range(i))) / U[i][i]\n",
    "    return L, U\n",
    "\n",
    "def eigen_values(A):\n",
    "  n=len(A)\n",
    "  count = 0\n",
    "  temp = A.copy()\n",
    "  while not np.all(np.diagonal(temp) != 0):\n",
    "     temp = A + (count+1) * np.eye(n)\n",
    "     count += 1\n",
    "  eigen_values = np.zeros(n)\n",
    "  while True:\n",
    "      tolerance = 1e-9\n",
    "      L,U=LU_decomposition(temp)\n",
    "      temp = np.matmul(U, L)\n",
    "      if np.all(abs(U-np.eye(n)) < tolerance):\n",
    "        eigen_values = np.diag(L) - count\n",
    "        break\n",
    "      if np.all(abs(L-np.eye(n)) < tolerance):\n",
    "        eigen_values = np.diag(U) - count\n",
    "        break\n",
    "  return eigen_values\n"
   ]
  },
  {
   "cell_type": "code",
   "execution_count": 58,
   "metadata": {
    "id": "yCzAbjAnzayi"
   },
   "outputs": [],
   "source": [
    "import numpy as np\n",
    "from scipy.linalg import null_space\n",
    "\n",
    "def find_eigenvector(A, eigenvalue):\n",
    "\n",
    "    shifted_matrix = A - eigenvalue * np.eye(A.shape[0])\n",
    "    eigenvector = null_space(shifted_matrix)\n",
    "\n",
    "    if eigenvector.size == 0:\n",
    "        return None\n",
    "    else:\n",
    "        return eigenvector[:, 0] / np.linalg.norm(eigenvector[:, 0])"
   ]
  },
  {
   "cell_type": "code",
   "execution_count": 59,
   "metadata": {
    "colab": {
     "base_uri": "https://localhost:8080/"
    },
    "id": "CYa0LJ-5nswT",
    "outputId": "c6d84295-bbd2-44ad-db3f-34b4d97ab80e"
   },
   "outputs": [
    {
     "name": "stdout",
     "output_type": "stream",
     "text": [
      "Roots: [-0.99726386 -0.98561151 -0.96476226 -0.93490608 -0.89632116 -0.84936761\n",
      " -0.7944838  -0.73218212 -0.66304427 -0.58771576 -0.50689991 -0.42135128\n",
      " -0.3318686  -0.23928736 -0.14447196 -0.04830767  0.04830767  0.14447196\n",
      "  0.23928736  0.3318686   0.42135128  0.50689991  0.58771576  0.66304427\n",
      "  0.73218212  0.7944838   0.84936761  0.89632116  0.93490608  0.96476226\n",
      "  0.98561151  0.99726386]\n",
      "Weights: [0.00701861 0.01627439 0.02539207 0.03427386 0.0428359  0.05099806\n",
      " 0.05868409 0.06582222 0.07234579 0.0781939  0.08331192 0.08765209\n",
      " 0.09117388 0.0938444  0.09563872 0.09654009 0.09654009 0.09563872\n",
      " 0.0938444  0.09117388 0.08765209 0.08331192 0.0781939  0.07234579\n",
      " 0.06582222 0.05868409 0.05099806 0.0428359  0.03427386 0.02539207\n",
      " 0.01627439 0.00701861]\n"
     ]
    }
   ],
   "source": [
    "def weights_and_nodes(J):\n",
    "  eigenvalues, eigenvectors = np.linalg.eigh(J)\n",
    "  roots = eigenvalues\n",
    "  weights = 2 * (eigenvectors[0, :]**2)\n",
    "  return roots, weights\n",
    "\n",
    "roots, weights = weights_and_nodes(J)\n",
    "print(\"Roots:\", roots)\n",
    "print(\"Weights:\", weights)\n"
   ]
  },
  {
   "cell_type": "markdown",
   "metadata": {
    "id": "yswlcJlS6TgT"
   },
   "source": [
    "### Visualizing Gaussian Quadrature Nodes and Weights using the Jacobi matrix."
   ]
  },
  {
   "cell_type": "code",
   "execution_count": 60,
   "metadata": {
    "colab": {
     "base_uri": "https://localhost:8080/",
     "height": 472
    },
    "id": "QRTZVXctipYS",
    "outputId": "eab58322-df7b-4a1e-d57b-53db59f24bdb"
   },
   "outputs": [
    {
     "data": {
      "image/png": "[encoded data removed]",
      "text/plain": [
       "<Figure size 640x480 with 1 Axes>"
      ]
     },
     "metadata": {},
     "output_type": "display_data"
    }
   ],
   "source": [
    "import matplotlib.pyplot as plt\n",
    "import numpy as np\n",
    "\n",
    "roots = np.asarray(roots)\n",
    "weights = np.asarray(weights)\n",
    "\n",
    "plt.scatter(roots, weights)\n",
    "\n",
    "plt.xlabel('Roots')\n",
    "plt.ylabel('Weights')\n",
    "plt.title('Gaussian Quadrature: Roots and Weights Visualization')\n",
    "plt.scatter(roots, weights, color='navy')\n",
    "plt.show()"
   ]
  },
  {
   "cell_type": "markdown",
   "metadata": {
    "id": "O3hSo41D83_h"
   },
   "source": [
    "$\\mathbf{B)}$\n",
    "\n",
    "### Calculating Legendre Polynomials using Recurrence Relation\n",
    "\n",
    "$\n",
    "(2n+1)xP_{n}(x)=(n+1)P_{n+1}(x)+nP_{n-1}(x)\n",
    "$"
   ]
  },
  {
   "cell_type": "code",
   "execution_count": 61,
   "metadata": {
    "colab": {
     "base_uri": "https://localhost:8080/"
    },
    "id": "-6uPIz34LxVI",
    "outputId": "feabf79c-12fa-4b82-facb-ef3680910e9c"
   },
   "outputs": [
    {
     "name": "stdout",
     "output_type": "stream",
     "text": [
      "Coefficients of P_32(x): [ 4.26691058e+08  5.68466685e-07 -3.35934547e+09 -1.44011560e-05\n",
      "  1.19779941e+10 -9.48960386e-04 -2.55801230e+10 -6.32438136e-03\n",
      "  3.64628947e+10 -1.01505411e-02 -3.65954870e+10 -3.29255904e-03\n",
      "  2.65835141e+10 -3.15309521e-04 -1.41480888e+10 -1.08387648e-03\n",
      "  5.52208566e+09 -3.94894857e-04 -1.56654912e+09 -4.24455125e-05\n",
      "  3.16791045e+08 -1.24352087e-07 -4.42034016e+07  2.88674488e-07\n",
      "  4.04299405e+06  7.12433833e-09 -2.23281723e+05 -5.05989939e-12\n",
      "  6.46568696e+03  3.38832548e-14 -7.38935652e+01  2.20594107e-16\n",
      "  1.39949934e-01]\n"
     ]
    }
   ],
   "source": [
    "from sympy import symbols, expand, Poly\n",
    "\n",
    "def legendre_polynomial(n):\n",
    "    x = symbols('x')\n",
    "\n",
    "    if n>16 :\n",
    "        Pn = legendre(n)\n",
    "        return Pn.coefficients\n",
    "\n",
    "    if n == 0:\n",
    "        return [1]\n",
    "    elif n == 1:\n",
    "        return [1, 0]\n",
    "\n",
    "    P_n_minus_2 = 1\n",
    "    P_n_minus_1 = x\n",
    "    for k in range(2, n + 1):\n",
    "        P_n = ((2 * k - 1) * x * P_n_minus_1 - (k - 1) * P_n_minus_2) / k\n",
    "        P_n_minus_2 = P_n_minus_1\n",
    "        P_n_minus_1 = P_n\n",
    "\n",
    "    P_n_expanded = expand(P_n)\n",
    "    coefficients = Poly(P_n_expanded, x).all_coeffs()\n",
    "    coefficients = [float(c) for c in coefficients]\n",
    "    return coefficients\n",
    "\n",
    "coefficients = legendre_polynomial(n)\n",
    "print(f\"Coefficients of P_{n}(x):\", coefficients)\n"
   ]
  },
  {
   "cell_type": "code",
   "execution_count": 64,
   "metadata": {
    "colab": {
     "base_uri": "https://localhost:8080/"
    },
    "id": "igTgjz2oMpMB",
    "outputId": "10dbd486-3861-4f69-d139-2ba6f466cc9d"
   },
   "outputs": [
    {
     "name": "stdout",
     "output_type": "stream",
     "text": [
      "Companion Matrix:\n",
      " [[ 0.00000000e+00  1.00000000e+00  0.00000000e+00 ...  0.00000000e+00\n",
      "   0.00000000e+00  0.00000000e+00]\n",
      " [ 0.00000000e+00  0.00000000e+00  1.00000000e+00 ...  0.00000000e+00\n",
      "   0.00000000e+00  0.00000000e+00]\n",
      " [ 0.00000000e+00  0.00000000e+00  0.00000000e+00 ...  0.00000000e+00\n",
      "   0.00000000e+00  0.00000000e+00]\n",
      " ...\n",
      " [ 0.00000000e+00  0.00000000e+00  0.00000000e+00 ...  0.00000000e+00\n",
      "   1.00000000e+00  0.00000000e+00]\n",
      " [ 0.00000000e+00  0.00000000e+00  0.00000000e+00 ...  0.00000000e+00\n",
      "   0.00000000e+00  1.00000000e+00]\n",
      " [-3.27988908e-10 -5.16987883e-25  1.73178143e-07 ...  3.37507799e-14\n",
      "   7.87301587e+00 -1.33226763e-15]]\n"
     ]
    }
   ],
   "source": [
    "import numpy as np\n",
    "\n",
    "def companion_matrix(coeffs):\n",
    "    if coeffs[0] != 1:\n",
    "        coeffs = [c / coeffs[0] for c in coeffs]\n",
    "    C = np.zeros((n, n))\n",
    "    C[-1, :] = -np.flip(np.array(coeffs[1:]))\n",
    "    for i in range(n - 1):\n",
    "        C[i, i + 1] = 1\n",
    "    return C\n",
    "\n",
    "C = companion_matrix(coefficients)\n",
    "print(\"Companion Matrix:\\n\", C)\n"
   ]
  },
  {
   "cell_type": "markdown",
   "metadata": {
    "id": "Ne7de36EJVVQ"
   },
   "source": [
    "### Computing Polynomial Roots using Companion Matrix Eigenvalues"
   ]
  },
  {
   "cell_type": "code",
   "execution_count": 65,
   "metadata": {
    "colab": {
     "base_uri": "https://localhost:8080/"
    },
    "id": "XkuCUly1Mvoe",
    "outputId": "05b4ea54-3f47-4cb8-bf77-b09295f3bc3b"
   },
   "outputs": [
    {
     "data": {
      "text/plain": [
       "array([-0.99707258, -0.98610292, -0.9641756 , -0.93536331, -0.89607548,\n",
       "       -0.84946612, -0.79445479, -0.73218854, -0.66304319, -0.58771589,\n",
       "       -0.5068999 , -0.42135128, -0.3318686 , -0.23928736, -0.14447196,\n",
       "       -0.04830767,  0.04830767,  0.14447196,  0.23928736,  0.3318686 ,\n",
       "        0.42135128,  0.50689991,  0.58771576,  0.66304427,  0.73218211,\n",
       "        0.79448383,  0.84936753,  0.89632134,  0.93490577,  0.96476263,\n",
       "        0.98561121,  0.99726397])"
      ]
     },
     "execution_count": 65,
     "metadata": {},
     "output_type": "execute_result"
    }
   ],
   "source": [
    "roots_found =np.sort(np.linalg.eigvals(C))\n",
    "roots_found"
   ]
  },
  {
   "cell_type": "markdown",
   "metadata": {
    "id": "WSrD8qwQFRTl"
   },
   "source": [
    "This section computes the weights for Gaussian quadrature using Lagrangian interpolation based on the previously calculated roots. The weights are then scaled to ensure their sum equals 2, a requirement for Gaussian quadrature."
   ]
  },
  {
   "cell_type": "code",
   "execution_count": 66,
   "metadata": {
    "colab": {
     "base_uri": "https://localhost:8080/"
    },
    "id": "cPRQD2fdzGPB",
    "outputId": "abe4cce8-e9a3-47c6-e243-8508bd006e26"
   },
   "outputs": [
    {
     "name": "stdout",
     "output_type": "stream",
     "text": [
      "[0.00701861 0.01627439 0.02539207 0.03427386 0.0428359  0.05099806\n",
      " 0.05868409 0.06582222 0.07234579 0.0781939  0.08331192 0.08765209\n",
      " 0.09117388 0.0938444  0.09563872 0.09654009 0.09654009 0.09563872\n",
      " 0.0938444  0.09117388 0.08765209 0.08331192 0.0781939  0.07234579\n",
      " 0.06582222 0.05868409 0.05099806 0.0428359  0.03427386 0.02539207\n",
      " 0.01627439 0.00701861]\n"
     ]
    }
   ],
   "source": [
    "import numpy as np\n",
    "\n",
    "def compute_weights(roots):\n",
    "    n = len(roots)\n",
    "    weights = np.zeros(n)\n",
    "\n",
    "    for i in range(n):\n",
    "        prod = 1\n",
    "        for j in range(n):\n",
    "            if i != j:\n",
    "                prod *= (roots[i] - roots[j])\n",
    "        weights[i] = 2 / ((1 - roots[i]**2) * (prod**2))\n",
    "    weights =2* weights / np.sum(weights)\n",
    "    return weights\n",
    "\n",
    "weights_found = compute_weights(roots_found)\n",
    "print(weights)"
   ]
  },
  {
   "cell_type": "markdown",
   "metadata": {
    "id": "ihXcfV6Cqii6"
   },
   "source": [
    "Here, we plot the graph between weights found using Lagrange interpolation and roots found using the eigenvalues of the companion matrix."
   ]
  },
  {
   "cell_type": "code",
   "execution_count": 67,
   "metadata": {
    "colab": {
     "base_uri": "https://localhost:8080/",
     "height": 472
    },
    "id": "GKz0fi-gohFs",
    "outputId": "74fbd1b7-f833-450f-afe2-842b6a6db1d8"
   },
   "outputs": [
    {
     "data": {
      "image/png": "[encoded data removed]",
      "text/plain": [
       "<Figure size 640x480 with 1 Axes>"
      ]
     },
     "metadata": {},
     "output_type": "display_data"
    }
   ],
   "source": [
    "\n",
    "roots = np.asarray(roots_found)\n",
    "weights = np.asarray(weights_found)\n",
    "\n",
    "plt.scatter(roots, weights)\n",
    "\n",
    "plt.xlabel('Roots')\n",
    "plt.ylabel('Weights')\n",
    "plt.title('Gaussian Quadrature: Roots and Weights Visualization')\n",
    "plt.scatter(roots, weights, color='red')\n",
    "plt.show()\n",
    "\n"
   ]
  }
 ],
 "metadata": {
  "colab": {
   "provenance": []
  },
  "kernelspec": {
   "display_name": "Python 3",
   "name": "python3"
  },
  "language_info": {
   "name": "python",
   "version": "3.12.1"
  }
 },
 "nbformat": 4,
 "nbformat_minor": 0
}
