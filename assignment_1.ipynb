{
 "cells": [
  {
   "cell_type": "markdown",
   "metadata": {
    "id": "Ki3ZfZRKDjG9"
   },
   "source": [
    "# **Numerical Methods Assignment_1**\n",
    "\n",
    "\n",
    "*   *Lakkoju Vikranth Ram* *ES23BTECH11024*\n",
    "*   *Jayanth* *CO23BTECH11005*\n",
    "*   *Kowshith* *ES23BTECH11015*\n",
    "*   *Sathwik* *ES23BTECH11020*\n",
    "*   *Deepak Joy* *ES23BTECH11014*\n",
    "\n"
   ]
  },
  {
   "cell_type": "markdown",
   "metadata": {
    "id": "HSa0USvuD0LR"
   },
   "source": [
    "From python library we import NumPy function and create 2 arrays A and B respectivey and we will print array A"
   ]
  },
  {
   "cell_type": "code",
   "execution_count": 15,
   "metadata": {},
   "outputs": [
    {
     "data": {
      "text/plain": [
       "(array([[ 5,  2,  6,  4,  1],\n",
       "        [ 2,  5,  9,  8,  7],\n",
       "        [ 5,  4, 15,  0,  1],\n",
       "        [ 4,  2,  3,  4,  6],\n",
       "        [ 1,  2,  3,  4,  5]], dtype=int64),\n",
       " array([1, 2, 3, 4, 5], dtype=int64),\n",
       " array([ 2,  4,  8,  6, 10], dtype=int64))"
      ]
     },
     "execution_count": 15,
     "metadata": {},
     "output_type": "execute_result"
    }
   ],
   "source": [
    "import pandas as pd\n",
    "import numpy as np\n",
    "df = pd.read_excel(\"input.xlsx\")\n",
    "df=df.dropna(axis=1,how='any')\n",
    "df=df.dropna(axis=0,how='any')\n",
    "A=df.iloc[:5].values\n",
    "b1=df.iloc[5].values\n",
    "b2=df.iloc[6].values\n",
    "A,b1,b2"
   ]
  },
  {
   "cell_type": "markdown",
   "metadata": {
    "id": "boP47OIfQtPx"
   },
   "source": [
    "# LU Decomposition\n",
    "\n",
    "LU decomposition is a method for decomposing a matrix into a product of a lower triangular matrix (L) and an upper triangular matrix (U).\n",
    "\n",
    "**Why LU Decomposition?**\n",
    "\n",
    "* Solving systems of linear equations.\n",
    "* Finding the inverse of a matrix.\n",
    "* Computing the determinant of a matrix.\n",
    "\n",
    "\n",
    "**How it Works:**\n",
    "\n",
    "\n",
    "\\begin{equation*}\n",
    "L =\n",
    "\\begin{bmatrix}\n",
    "1 & 0 & 0 \\\\\n",
    "* & 1 & 0 \\\\\n",
    "* & * & 1\n",
    "\\end{bmatrix}\n",
    "\\qquad\n",
    "U =\n",
    "\\begin{bmatrix}\n",
    "* & * & * \\\\\n",
    "0 & * & * \\\\\n",
    "0 & 0 & *\n",
    "\\end{bmatrix}\n",
    "\\end{equation*}\n"
   ]
  },
  {
   "cell_type": "markdown",
   "metadata": {
    "id": "kvQKxLQAJAXh"
   },
   "source": [
    "Where:\n",
    "\n",
    "*  A is the original square matrix.\n",
    "*  L is the lower triangular matrix.\n",
    "*  U is the upper triangular matrix.\n",
    "\n",
    "**Example:**\n",
    "This code snippet demonstrates how to perform LU decomposition using the `scipy` library in Python.\n",
    "\n",
    "**Note:** LU decomposition may require pivoting to ensure numerical stability."
   ]
  },
  {
   "cell_type": "code",
   "execution_count": null,
   "metadata": {
    "colab": {
     "base_uri": "https://localhost:8080/"
    },
    "id": "5sCAhc6AvGhf",
    "outputId": "d6a0533a-846f-4404-d284-bfd89e6bcbd2"
   },
   "outputs": [
    {
     "data": {
      "text/plain": [
       "(array([[ 1.        ,  0.        ,  0.        ,  0.        ,  0.        ],\n",
       "        [ 0.4       ,  1.        ,  0.        ,  0.        ,  0.        ],\n",
       "        [ 1.        ,  0.47619048,  1.        ,  0.        ,  0.        ],\n",
       "        [ 0.8       ,  0.0952381 , -0.41463415,  1.        ,  0.        ],\n",
       "        [ 0.2       ,  0.38095238, -0.12195122,  0.03571429,  1.        ]]),\n",
       " array([[ 5.        ,  2.        ,  6.        ,  4.        ,  1.        ],\n",
       "        [ 0.        ,  4.2       ,  6.6       ,  6.4       ,  6.6       ],\n",
       "        [ 0.        ,  0.        ,  5.85714286, -7.04761905, -3.14285714],\n",
       "        [ 0.        ,  0.        ,  0.        , -2.73170732,  3.26829268],\n",
       "        [ 0.        ,  0.        ,  0.        ,  0.        ,  1.78571429]]))"
      ]
     },
     "execution_count": 16,
     "metadata": {},
     "output_type": "execute_result"
    }
   ],
   "source": [
    "def LU_decomposition_with_pivoting(A):\n",
    "    n = len(A)\n",
    "    L = np.zeros((n, n))\n",
    "    U = A.copy()\n",
    "    P = np.eye(n)  # Permutation matrix\n",
    "    \n",
    "    for i in range(n):\n",
    "        # Partial Pivoting: Find the maximum element in the current column\n",
    "        max_row = np.argmax(abs(U[i:n, i])) + i\n",
    "        if i != max_row:\n",
    "            # Swap rows in U\n",
    "            U[[i, max_row]] = U[[max_row, i]]\n",
    "            # Swap rows in P\n",
    "            P[[i, max_row]] = P[[max_row, i]]\n",
    "            # Swap rows in L but only up to column i-1\n",
    "            if i > 0:\n",
    "                L[[i, max_row], :i] = L[[max_row, i], :i]\n",
    "        \n",
    "        # LU Decomposition\n",
    "        for k in range(i+1, n):\n",
    "            L[k, i] = U[k, i] / U[i, i]\n",
    "            U[k, i:] -= L[k, i] * U[i, i:]\n",
    "        \n",
    "        L[i, i] = 1  # Diagonal elements of L are 1\n",
    "    \n",
    "    return L, U\n"
   ]
  },
  {
   "cell_type": "markdown",
   "metadata": {
    "id": "KVblTUZLM1Ld"
   },
   "source": [
    "To calculate the eigenvalues of the matrix $\\mathbf{A}$ :\n",
    "\n",
    "If the every diagonal element of the given matrix is non-zero then ,  \n",
    "\n",
    " we perform LU decomposition and iteratively update the matrix as follows:\n",
    "\n",
    "1. Set up an initial matrix $\\mathbf{A}$ and tolerance $\\mathbf{tol}$.\n",
    "2. Perform LU decomposition:\n",
    "   \\[\n",
    "  $\\mathbf{A = LU}$\n",
    "   \\]\n",
    "3. Multiply $\\mathbf{U}$ and $\\mathbf{L}$ to update $\\mathbf{A}$:\n",
    "   \\[\n",
    "   $\\mathbf{A = U \\times L}$\n",
    "   \\]\n",
    "4. Continue this process until $\\mathbf{U}$ or $\\mathbf{L}$ becomes close to the identity matrix $\\mathbf{I}$. The eigenvalues will be the diagonal elements of $\\mathbf{L}$ or $\\mathbf{U}$.\n",
    "\n",
    "The stopping condition is checked using the tolerance:\n",
    "\\[\n",
    "$\\mathbf{ |U - I| < tol \\quad \\text{or} \\quad |L - I| < tol}$\n",
    "\\]\n",
    "\n"
   ]
  },
  {
   "cell_type": "code",
   "execution_count": 17,
   "metadata": {
    "colab": {
     "base_uri": "https://localhost:8080/"
    },
    "id": "ptQsnjqqyZAO",
    "outputId": "b9e4a2cd-3730-4f3a-fc50-4b45c4ac1472"
   },
   "outputs": [
    {
     "data": {
      "text/plain": [
       "array([22.52689478,  8.94567003,  3.68271279, -1.6463513 ,  0.49107371])"
      ]
     },
     "execution_count": 17,
     "metadata": {},
     "output_type": "execute_result"
    }
   ],
   "source": [
    "def eigen_values(A):\n",
    "  n=len(A) \n",
    "  count = 0\n",
    "  temp = A.copy()  # Create a copy of A to avoid modifying the original matrix\n",
    "  while not np.all(np.diagonal(temp) != 0):\n",
    "     temp = A + (count+1) * np.eye(n)\n",
    "     count += 1\n",
    "  eigen_values = np.zeros(n)\n",
    "  while True:\n",
    "      tolerance = 1e-9\n",
    "      L,U=LU_decomposition(temp)\n",
    "      temp = np.matmul(U, L)\n",
    "      if np.all(abs(U-np.eye(n)) < tolerance):\n",
    "        eigen_values = np.diag(L) - count\n",
    "        break\n",
    "      if np.all(abs(L-np.eye(n)) < tolerance):\n",
    "        eigen_values = np.diag(U) - count\n",
    "        break\n",
    "  return eigen_values\n",
    "eigen_values(A)"
   ]
  },
  {
   "cell_type": "markdown",
   "metadata": {
    "id": "6vbU85CDQlyh"
   },
   "source": [
    "If any of the diagonal elements of the matrix $\\mathbf{A}$ is equal to $\\mathbf{0}$, we use the shifting method. To handle this, we introduce a shift $\\lambda$. The matrix $\\mathbf{A}$ is modified by subtracting $\\lambda$ times the identity matrix $\\mathbf{I}$, where $\\lambda$ is any eigenvalue of the given matrix:\n",
    "\n",
    "\\[\n",
    "$A_{\\lambda} = \\mathbf{A} - \\lambda \\mathbf{I}$\n",
    "\\]\n",
    "\n",
    "This shift modifies the matrix without changing its overall structure, but it ensures that none of the diagonal elements are zero. The eigenvalues of the new matrix are shifted by $\\lambda$, so to obtain the eigenvalues of the original matrix, we add $\\lambda$ to the eigenvalues obtained from $A_{\\lambda}$.\n"
   ]
  },
  {
   "cell_type": "markdown",
   "metadata": {
    "id": "GMTndm7QFMCK"
   },
   "source": [
    "We use the np.linalg.eigvals function from the Python library to check whether the eigenvalues we obtained are the true eigenvalues of the given matrix or not."
   ]
  },
  {
   "cell_type": "code",
   "execution_count": 18,
   "metadata": {
    "colab": {
     "base_uri": "https://localhost:8080/"
    },
    "id": "RnkcubopBvjY",
    "outputId": "64988822-ad46-4407-b916-7cd9fe40e3fe"
   },
   "outputs": [
    {
     "data": {
      "text/plain": [
       "array([22.52689478, -1.6463513 ,  0.49107371,  3.68271279,  8.94567003])"
      ]
     },
     "execution_count": 18,
     "metadata": {},
     "output_type": "execute_result"
    }
   ],
   "source": [
    "eigenvalues = np.linalg.eigvals(A)\n",
    "eigenvalues"
   ]
  },
  {
   "cell_type": "markdown",
   "metadata": {
    "id": "LTKt-GdiQRO5"
   },
   "source": [
    "**$\\mathbf\\large\\text{det}(A) = \\prod_{i=1}^{n} \\lambda_i$**\n",
    "\n",
    "The given code determines the determinant of the given matrix using it's eigen values,\n",
    "\n",
    "determinant of the given matrix A is the produt of all of it's eigen values.\n",
    "\n"
   ]
  },
  {
   "cell_type": "code",
   "execution_count": 19,
   "metadata": {
    "colab": {
     "base_uri": "https://localhost:8080/"
    },
    "id": "O5mgDhMEEygZ",
    "outputId": "fe6bd4dc-73c2-4cb5-c71b-ea2e1e87d26c"
   },
   "outputs": [
    {
     "name": "stdout",
     "output_type": "stream",
     "text": [
      "-599.9999999999989\n"
     ]
    }
   ],
   "source": [
    "n=len(A)\n",
    "eigen_values = np.linalg.eigvals(A)\n",
    "determinant=1\n",
    "for i in range(n):\n",
    "  determinant*=eigen_values[i]\n",
    "\n",
    "print(determinant)"
   ]
  },
  {
   "cell_type": "markdown",
   "metadata": {
    "id": "3vOwAOY6c2sF"
   },
   "source": [
    "By using the  determinant of the matrix, we can determine the uniqueness of the system\n",
    "\n",
    " if  $\\text{det}(A)\\neq 0$  it indicates the uniqueness of the system of equations\n",
    "\n",
    " In the other case i.e., $\\text{det}(A)=0$ then system of equations may have infinitely many solutions or no solution."
   ]
  },
  {
   "cell_type": "code",
   "execution_count": 20,
   "metadata": {
    "colab": {
     "base_uri": "https://localhost:8080/"
    },
    "id": "-2nUz3J5xYec",
    "outputId": "f7ccfb8b-72d2-400b-fe0d-52af1500286e"
   },
   "outputs": [
    {
     "name": "stdout",
     "output_type": "stream",
     "text": [
      "The solutions of the system are unique\n"
     ]
    }
   ],
   "source": [
    "if determinant==0:\n",
    "  print(\"The solutions of the system are not unique\")\n",
    "else:\n",
    "  print(\"The solutions of the system are unique\")"
   ]
  },
  {
   "cell_type": "markdown",
   "metadata": {
    "id": "_27daWcUOfv4"
   },
   "source": [
    "\n",
    "$\\Large \\text{Condition Number} = \\frac{\\max(|\\lambda|)}{\\min(|\\lambda|)}$"
   ]
  },
  {
   "cell_type": "code",
   "execution_count": 21,
   "metadata": {
    "id": "rogBEFfiG_ap"
   },
   "outputs": [],
   "source": [
    "def condition_number(Matrix):\n",
    "    eigen_values=np.linalg.eigvals(Matrix)\n",
    "    condition_num= np.amax(abs(eigen_values))/np.amin(abs(eigen_values))\n",
    "    return condition_num\n"
   ]
  },
  {
   "cell_type": "markdown",
   "metadata": {
    "id": "T61wX45ShX8I"
   },
   "source": [
    "This section of code calculates and compares the condition numbers of matrix A and a 5x5 Hilbert matrix. A Hilbert matrix is a square matrix where the elements are the unit fractions. Hilbert matrices are known to be ill-conditioned, meaning that they can be sensitive to small changes in input values, leading to large errors in the output. By comparing the condition numbers, you can assess the relative conditioning of matrix A to the Hilbert matrix."
   ]
  },
  {
   "cell_type": "code",
   "execution_count": 22,
   "metadata": {
    "colab": {
     "base_uri": "https://localhost:8080/"
    },
    "id": "eIdonYf8vefT",
    "outputId": "f961aaa8-0b33-4c40-86f9-f53bc7fd1557"
   },
   "outputs": [
    {
     "name": "stdout",
     "output_type": "stream",
     "text": [
      "condition number of the hilbert matrix is:\n",
      "476607.2502427483\n",
      "condition number of the given matrix is:\n",
      "45.87273627139868\n",
      "Condition number of the hilbert matrix is greater than condition number of the given matrix\n"
     ]
    }
   ],
   "source": [
    "from scipy.linalg import hilbert\n",
    "Hilbert_matrix=hilbert(5)\n",
    "print(\"condition number of the hilbert matrix is:\")\n",
    "print(condition_number(Hilbert_matrix))\n",
    "print(\"condition number of the given matrix is:\")\n",
    "print(condition_number(A))\n",
    "if (condition_number(A)>condition_number(Hilbert_matrix)):\n",
    "  print(f\"Condition number of the given matrix is greater than condition number of the hilbert matrix\")\n",
    "if (condition_number(A)<condition_number(Hilbert_matrix)):\n",
    "  print(f\"Condition number of the hilbert matrix is greater than condition number of the given matrix\")\n",
    "else:\n",
    "  print(f\"Condition number of the given matrix is equal to condition number of the hilbert matrix\")"
   ]
  },
  {
   "cell_type": "markdown",
   "metadata": {
    "id": "yvVzb0mqwmBi"
   },
   "source": [
    "Here we are finding the coefficients of characteristic polynomial equation for matrix $\\text{A}$\n",
    "where the characteristic polynomial equation is of the form: \\\\\n",
    "$a_0\\lambda^5+a_1\\lambda^4+a_2\\lambda^3+a_3\\lambda^2+a_4\\lambda+a_5$ \\\\\n",
    "The roots of the characteristic polynomial equation are the eigenvalues of matrix A. This code calculates the polynomial coefficients in the order $a_0, a_1, a_2, a_3, a_4, a_5$."
   ]
  },
  {
   "cell_type": "code",
   "execution_count": 23,
   "metadata": {
    "colab": {
     "base_uri": "https://localhost:8080/"
    },
    "id": "4o0QPLnjIeTX",
    "outputId": "b16f5ddb-a2f0-448b-c7c0-e977f2bc560a"
   },
   "outputs": [
    {
     "name": "stdout",
     "output_type": "stream",
     "text": [
      "[    1.   -34.   276.  -347. -1114.   600.]\n",
      "1.0x^5 + -34.0x^4 + 276.0x^3 + -347.0x^2 + -1114.0x^1 + 600.0x^0 + 0\n"
     ]
    }
   ],
   "source": [
    "from numpy.polynomial import polynomial as P\n",
    "\n",
    "# Assuming eigen_values is a numpy array containing the eigenvalues\n",
    "polynomial = np.round (P.polyfromroots(eigen_values))\n",
    "polynomial = np.flip(polynomial)\n",
    "np.set_printoptions(suppress=True)\n",
    "print((polynomial[0:len(polynomial)]))\n",
    "for i, coeff in enumerate(polynomial):\n",
    "  print(f\"{coeff}x^{len(polynomial)-i-1} + \", end=\"\")\n",
    "print(0)"
   ]
  },
  {
   "cell_type": "code",
   "execution_count": 24,
   "metadata": {
    "colab": {
     "base_uri": "https://localhost:8080/"
    },
    "id": "uZ17aU1bKc3E",
    "outputId": "2aa0c22a-8437-4465-c8d6-8500fefa0bf7"
   },
   "outputs": [
    {
     "name": "stdout",
     "output_type": "stream",
     "text": [
      "[22.52689478  8.94567003  3.68271279 -1.6463513   0.49107371]\n"
     ]
    }
   ],
   "source": [
    "print(np.roots(polynomial))"
   ]
  },
  {
   "cell_type": "code",
   "execution_count": 25,
   "metadata": {
    "colab": {
     "base_uri": "https://localhost:8080/"
    },
    "id": "brjTaODH0fAk",
    "outputId": "4ebe43d1-ac96-4ae2-83ab-125392bfe596"
   },
   "outputs": [
    {
     "name": "stdout",
     "output_type": "stream",
     "text": [
      "[[ 0.02        0.08       -0.02        0.34       -0.52      ]\n",
      " [-0.86        1.56       -0.14        1.38       -3.64      ]\n",
      " [ 0.22666667 -0.42666667  0.10666667 -0.48        1.10666667]\n",
      " [ 0.33       -0.18       -0.08       -0.39        0.67      ]\n",
      " [-0.06       -0.24        0.06       -0.02        0.56      ]]\n"
     ]
    }
   ],
   "source": [
    "A_INV=np.linalg.inv(A)\n",
    "print(A_INV)"
   ]
  },
  {
   "cell_type": "markdown",
   "metadata": {
    "id": "aSBb-WVglicf"
   },
   "source": [
    "This code calculates the absolute maximum and minimum eigenvalues of matrix A using the power method.\n",
    "\n",
    "The power method is an iterative algorithm that finds the dominant eigenvalue (largest eigenvalue in absolute value) and its corresponding eigenvector. To find the absolute minimum eigenvalue, the power method is applied to the inverse of A. The reciprocal of the absolute maximum eigenvalue of the inverse matrix is then the absolute minimum eigenvalue of the original matrix."
   ]
  },
  {
   "cell_type": "code",
   "execution_count": 26,
   "metadata": {
    "colab": {
     "base_uri": "https://localhost:8080/"
    },
    "id": "tR9nKA713qGo",
    "outputId": "b83149dc-e579-4a7f-a3cf-b0b5d2163110"
   },
   "outputs": [
    {
     "name": "stdout",
     "output_type": "stream",
     "text": [
      "The maximum eigen value using power method :22.52689477659869\n",
      "Minimum Eigen value of the matrix using inverse power method :0.4910737097373484\n",
      "22.52689477659868\n",
      "0.4910737097373465\n"
     ]
    }
   ],
   "source": [
    "def eigen_vector_power(matrix)-> float:\n",
    "  eigen_vector = np.array((1,0,0,0,0))\n",
    "  temp = np.array((100,0,0,0,0))\n",
    "  tol=0.00001\n",
    "  while True :\n",
    "      eigen_vector = np.matmul(matrix,eigen_vector)/np.amax(eigen_vector)\n",
    "      if (abs(np.amax(temp)-np.amax(eigen_vector))<tol and abs(np.all(temp-eigen_vector))<tol):\n",
    "        return (np.amax(eigen_vector))\n",
    "        break\n",
    "      temp=np.amax(eigen_vector)\n",
    "\n",
    "print(f\"The maximum eigen value using power method :{eigen_vector_power(A)}\")\n",
    "print(f\"Minimum Eigen value of the matrix using inverse power method :{1/eigen_vector_power(A_INV)}\")\n",
    "print(np.amax(eigen_values))\n",
    "print(np.amin(abs(eigen_values)))"
   ]
  },
  {
   "cell_type": "markdown",
   "metadata": {
    "id": "KhO8shVzoDbd"
   },
   "source": [
    "This statement suggests cross-referencing the results of the power method with the eigenvalues obtained through LU decomposition. It serves as a verification step to ensure the accuracy and consistency of the calculated eigenvalues"
   ]
  },
  {
   "cell_type": "markdown",
   "metadata": {
    "id": "J9-lCst3ozHi"
   },
   "source": [
    "This code calculates the inverse of matrix A using the Gauss-Jordan elimination method. The Gauss-Jordan method is a standard algorithm for finding the inverse of a matrix by transforming the augmented matrix (A|I), where I is the identity matrix, into reduced row-echelon form (I|A^-1). The resulting matrix on the right side of the augmented matrix is the inverse of the original matrix."
   ]
  },
  {
   "cell_type": "code",
   "execution_count": 27,
   "metadata": {
    "colab": {
     "base_uri": "https://localhost:8080/"
    },
    "id": "mAUj2eTp2kA-",
    "outputId": "aebe8202-45fa-4806-826e-79d0f666b8f2"
   },
   "outputs": [
    {
     "name": "stdout",
     "output_type": "stream",
     "text": [
      "[[ 0.02        0.08       -0.02        0.34       -0.52      ]\n",
      " [-0.86        1.56       -0.14        1.38       -3.64      ]\n",
      " [ 0.22666667 -0.42666667  0.10666667 -0.48        1.10666667]\n",
      " [ 0.33       -0.18       -0.08       -0.39        0.67      ]\n",
      " [-0.06       -0.24        0.06       -0.02        0.56      ]]\n"
     ]
    }
   ],
   "source": [
    "import numpy as np\n",
    "\n",
    "def gauss_jordan_inverse(a):\n",
    "    a = np.array(a, float)\n",
    "    n = len(a)\n",
    "    tol = 1e-8\n",
    "    # Augmenting with identity matrix\n",
    "    inverse = np.identity(n)\n",
    "\n",
    "    # Main loop\n",
    "    for k in range(n):\n",
    "        # Partial pivoting\n",
    "        if np.fabs(a[k, k]) < tol:\n",
    "            for i in range(k + 1, n):\n",
    "                if np.fabs(a[i, k]) > np.fabs(a[k, k]):\n",
    "                    # Swap rows in both matrix 'a' and 'inverse'\n",
    "                    a[[k, i]] = a[[i, k]]\n",
    "                    inverse[[k, i]] = inverse[[i, k]]\n",
    "                    break\n",
    "\n",
    "        # Divide the pivot row by the diagonal element\n",
    "        div = a[k, k]\n",
    "        a[k, :] /= div\n",
    "        inverse[k, :] /= div\n",
    "\n",
    "        # Elimination process\n",
    "        for i in range(n):\n",
    "            if i == k:\n",
    "                continue\n",
    "            factor = a[i, k]\n",
    "            a[i, :] -= factor * a[k, :]\n",
    "            inverse[i, :] -= factor * inverse[k, :]\n",
    "\n",
    "    return inverse\n",
    "import numpy as np\n",
    "A=np.array([[5,2,6,4,1],[2,5,9,8,7],[5,4,15,0,1],[4,2,3,4,6],[1,2,3,4,5]])\n",
    "B=np.array([1,2,3,4,5])\n",
    "A\n",
    "print(gauss_jordan_inverse(A))\n"
   ]
  },
  {
   "cell_type": "markdown",
   "metadata": {
    "id": "cQvaQb_LpEOP"
   },
   "source": [
    "Here we are finding the solution for system of equations Ax=b by using LU Decomposition by changing the b-vector for the same given matrix."
   ]
  },
  {
   "cell_type": "code",
   "execution_count": 28,
   "metadata": {
    "colab": {
     "base_uri": "https://localhost:8080/"
    },
    "id": "Galke-9I7YQe",
    "outputId": "b5225db7-849e-459c-e3d5-fd3d45bdea5f"
   },
   "outputs": [
    {
     "data": {
      "text/plain": [
       "array([ -2.96      , -24.72      ,   7.78666667,   3.66      ,\n",
       "         4.88      ])"
      ]
     },
     "execution_count": 28,
     "metadata": {},
     "output_type": "execute_result"
    }
   ],
   "source": [
    "def forward_substitution(L, b):\n",
    "    n = len(b)\n",
    "    y = np.zeros(n)\n",
    "    for i in range(n):\n",
    "        y[i] = b[i] - sum(L[i][j] * y[j] for j in range(i))\n",
    "    return y\n",
    "\n",
    "def backward_substitution(U, y):\n",
    "    n = len(y)\n",
    "    x = np.zeros(n)\n",
    "    for i in range(n-1, -1, -1):\n",
    "        x[i] = (y[i] - sum(U[i][j] * x[j] for j in range(i+1, n))) / U[i][i]\n",
    "    return x\n",
    "\n",
    "def solve_system(A, b):\n",
    "    L, U = LU_decomposition(A)\n",
    "    y = forward_substitution(L, b)\n",
    "    x = backward_substitution(U, y)\n",
    "    return x\n",
    "\n",
    "solve_system(A,b1)\n",
    "solve_system(A,b2)"
   ]
  }
 ],
 "metadata": {
  "colab": {
   "provenance": []
  },
  "kernelspec": {
   "display_name": "Python 3",
   "name": "python3"
  },
  "language_info": {
   "codemirror_mode": {
    "name": "ipython",
    "version": 3
   },
   "file_extension": ".py",
   "mimetype": "text/x-python",
   "name": "python",
   "nbconvert_exporter": "python",
   "pygments_lexer": "ipython3",
   "version": "3.12.1"
  }
 },
 "nbformat": 4,
 "nbformat_minor": 0
}
